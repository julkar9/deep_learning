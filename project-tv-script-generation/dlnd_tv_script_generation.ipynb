{
 "cells": [
  {
   "cell_type": "markdown",
   "metadata": {},
   "source": [
    "# TV Script Generation\n",
    "\n",
    "In this project, you'll generate your own [Seinfeld](https://en.wikipedia.org/wiki/Seinfeld) TV scripts using RNNs.  You'll be using part of the [Seinfeld dataset](https://www.kaggle.com/thec03u5/seinfeld-chronicles#scripts.csv) of scripts from 9 seasons.  The Neural Network you'll build will generate a new ,\"fake\" TV script, based on patterns it recognizes in this training data.\n",
    "\n",
    "## Get the Data\n",
    "\n",
    "The data is already provided for you in `./data/Seinfeld_Scripts.txt` and you're encouraged to open that file and look at the text. \n",
    ">* As a first step, we'll load in this data and look at some samples. \n",
    "* Then, you'll be tasked with defining and training an RNN to generate a new script!"
   ]
  },
  {
   "cell_type": "code",
   "execution_count": 26,
   "metadata": {},
   "outputs": [],
   "source": [
    "import os\n",
    "os.environ['CUDA_LAUNCH_BLOCKING'] = \"1\""
   ]
  },
  {
   "cell_type": "code",
   "execution_count": 27,
   "metadata": {
    "collapsed": true
   },
   "outputs": [],
   "source": [
    "\"\"\"\n",
    "DON'T MODIFY ANYTHING IN THIS CELL\n",
    "\"\"\"\n",
    "# load in data\n",
    "import helper\n",
    "data_dir = './data/Seinfeld_Scripts.txt'\n",
    "text = helper.load_data(data_dir)"
   ]
  },
  {
   "cell_type": "markdown",
   "metadata": {},
   "source": [
    "## Explore the Data\n",
    "Play around with `view_line_range` to view different parts of the data. This will give you a sense of the data you'll be working with. You can see, for example, that it is all lowercase text, and each new line of dialogue is separated by a newline character `\\n`."
   ]
  },
  {
   "cell_type": "code",
   "execution_count": 28,
   "metadata": {
    "collapsed": true
   },
   "outputs": [
    {
     "name": "stdout",
     "output_type": "stream",
     "text": [
      "Dataset Stats\n",
      "Roughly the number of unique words: 46367\n",
      "Number of lines: 109233\n",
      "Average number of words in each line: 5.544240293684143\n",
      "The lines 0 to 10:\n",
      "jerry: do you know what this is all about? do you know, why were here? to be out, this is out...and out is one of the single most enjoyable experiences of life. people...did you ever hear people talking about we should go out? this is what theyre talking about...this whole thing, were all out now, no one is home. not one person here is home, were all out! there are people trying to find us, they dont know where we are. (on an imaginary phone) did you ring?, i cant find him. where did he go? he didnt tell me where he was going. he must have gone out. you wanna go out you get ready, you pick out the clothes, right? you take the shower, you get all ready, get the cash, get your friends, the car, the spot, the reservation...then youre standing around, what do you do? you go we gotta be getting back. once youre out, you wanna get back! you wanna go to sleep, you wanna get up, you wanna go out again tomorrow, right? where ever you are in life, its my feeling, youve gotta go. \n",
      "\n",
      "jerry: (pointing at georges shirt) see, to me, that button is in the worst possible spot. the second button literally makes or breaks the shirt, look at it. its too high! its in no-mans-land. you look like you live with your mother. \n",
      "\n",
      "george: are you through? \n",
      "\n",
      "jerry: you do of course try on, when you buy? \n",
      "\n",
      "george: yes, it was purple, i liked it, i dont actually recall considering the buttons. \n",
      "\n"
     ]
    }
   ],
   "source": [
    "view_line_range = (0, 10)\n",
    "\n",
    "\"\"\"\n",
    "DON'T MODIFY ANYTHING IN THIS CELL THAT IS BELOW THIS LINE\n",
    "\"\"\"\n",
    "import numpy as np\n",
    "\n",
    "print('Dataset Stats')\n",
    "print('Roughly the number of unique words: {}'.format(len({word: None for word in text.split()})))\n",
    "\n",
    "lines = text.split('\\n')\n",
    "print('Number of lines: {}'.format(len(lines)))\n",
    "word_count_line = [len(line.split()) for line in lines]\n",
    "print('Average number of words in each line: {}'.format(np.average(word_count_line)))\n",
    "\n",
    "print('The lines {} to {}:'.format(*view_line_range))\n",
    "print('\\n'.join(text.split('\\n')[view_line_range[0]:view_line_range[1]]))\n"
   ]
  },
  {
   "cell_type": "markdown",
   "metadata": {},
   "source": [
    "---\n",
    "## Implement Pre-processing Functions\n",
    "The first thing to do to any dataset is pre-processing.  Implement the following pre-processing functions below:\n",
    "- Lookup Table\n",
    "- Tokenize Punctuation\n",
    "\n",
    "### Lookup Table\n",
    "To create a word embedding, you first need to transform the words to ids.  In this function, create two dictionaries:\n",
    "- Dictionary to go from the words to an id, we'll call `vocab_to_int`\n",
    "- Dictionary to go from the id to word, we'll call `int_to_vocab`\n",
    "\n",
    "Return these dictionaries in the following **tuple** `(vocab_to_int, int_to_vocab)`"
   ]
  },
  {
   "cell_type": "code",
   "execution_count": 34,
   "metadata": {
    "collapsed": true
   },
   "outputs": [
    {
     "name": "stdout",
     "output_type": "stream",
     "text": [
      "Tests Passed\n"
     ]
    }
   ],
   "source": [
    "import problem_unittests as tests\n",
    "from collections import Counter\n",
    "\n",
    "def create_lookup_tables(text):\n",
    "    \"\"\"\n",
    "    Create lookup tables for vocabulary\n",
    "    :param text: The text of tv scripts split into words\n",
    "    :return: A tuple of dicts (vocab_to_int, int_to_vocab)\n",
    "    \"\"\"\n",
    "    # TODO: Implement Function\n",
    "\n",
    "    word_counts = Counter(text)\n",
    "    sorted_vocab = sorted(word_counts, key=word_counts.get, reverse=True)\n",
    "    int_to_vocab = {i: word for i, word in enumerate(sorted_vocab)}\n",
    "    vocab_to_int = {word: i for i, word in int_to_vocab.items()}\n",
    "    \n",
    "    # return tuple\n",
    "    return (vocab_to_int, int_to_vocab)\n",
    "\n",
    "\"\"\"\n",
    "DON'T MODIFY ANYTHING IN THIS CELL THAT IS BELOW THIS LINE\n",
    "\"\"\"\n",
    "tests.test_create_lookup_tables(create_lookup_tables)"
   ]
  },
  {
   "cell_type": "markdown",
   "metadata": {},
   "source": [
    "### Tokenize Punctuation\n",
    "We'll be splitting the script into a word array using spaces as delimiters.  However, punctuations like periods and exclamation marks can create multiple ids for the same word. For example, \"bye\" and \"bye!\" would generate two different word ids.\n",
    "\n",
    "Implement the function `token_lookup` to return a dict that will be used to tokenize symbols like \"!\" into \"||Exclamation_Mark||\".  Create a dictionary for the following symbols where the symbol is the key and value is the token:\n",
    "- Period ( **.** )\n",
    "- Comma ( **,** )\n",
    "- Quotation Mark ( **\"** )\n",
    "- Semicolon ( **;** )\n",
    "- Exclamation mark ( **!** )\n",
    "- Question mark ( **?** )\n",
    "- Left Parentheses ( **(** )\n",
    "- Right Parentheses ( **)** )\n",
    "- Dash ( **-** )\n",
    "- Return ( **\\n** )\n",
    "\n",
    "This dictionary will be used to tokenize the symbols and add the delimiter (space) around it.  This separates each symbols as its own word, making it easier for the neural network to predict the next word. Make sure you don't use a value that could be confused as a word; for example, instead of using the value \"dash\", try using something like \"||dash||\"."
   ]
  },
  {
   "cell_type": "code",
   "execution_count": 35,
   "metadata": {
    "collapsed": true
   },
   "outputs": [
    {
     "name": "stdout",
     "output_type": "stream",
     "text": [
      "Tests Passed\n"
     ]
    }
   ],
   "source": [
    "from string import punctuation\n",
    "\n",
    "punctuation_dict = {}\n",
    "def token_lookup():\n",
    "    \"\"\"\n",
    "    Generate a dict to turn punctuation into a token.\n",
    "    :return: Tokenized dictionary where the key is the punctuation and the value is the token\n",
    "    \"\"\"\n",
    "    # TODO: Implement Function\n",
    "    for i in punctuation:\n",
    "        if i is '.':\n",
    "            punctuation_dict[i] = '||Period||'\n",
    "        elif i is ',':\n",
    "            punctuation_dict[i] = '||Comma||'\n",
    "        elif i is '\"':\n",
    "            punctuation_dict[i] = '||Quotation_Mark||'\n",
    "        elif i is ';':\n",
    "            punctuation_dict[i] = '||Semicolon||'\n",
    "        elif i is '!':\n",
    "            punctuation_dict[i] = '||Exclamation_Mark||'\n",
    "        elif i is '?':\n",
    "            punctuation_dict[i] = '||Question_Mark||'\n",
    "        elif i is '(':\n",
    "            punctuation_dict[i] = '||Left_Parentheses||'\n",
    "        elif i is ')':\n",
    "            punctuation_dict[i] = '||Right_Parentheses||'\n",
    "        elif i is '-':\n",
    "            punctuation_dict[i] = '||Dash||'\n",
    "    punctuation_dict['\\n'] = '||Return||'    \n",
    "    return punctuation_dict\n",
    "\n",
    "\"\"\"\n",
    "DON'T MODIFY ANYTHING IN THIS CELL THAT IS BELOW THIS LINE\n",
    "\"\"\"\n",
    "tests.test_tokenize(token_lookup)"
   ]
  },
  {
   "cell_type": "markdown",
   "metadata": {},
   "source": [
    "## Pre-process all the data and save it\n",
    "\n",
    "Running the code cell below will pre-process all the data and save it to file. You're encouraged to look at the code for `preprocess_and_save_data` in the `helpers.py` file to see what it's doing in detail, but you do not need to change this code."
   ]
  },
  {
   "cell_type": "code",
   "execution_count": 36,
   "metadata": {
    "collapsed": true
   },
   "outputs": [],
   "source": [
    "\"\"\"\n",
    "DON'T MODIFY ANYTHING IN THIS CELL\n",
    "\"\"\"\n",
    "# pre-process training data\n",
    "helper.preprocess_and_save_data(data_dir, token_lookup, create_lookup_tables)"
   ]
  },
  {
   "cell_type": "markdown",
   "metadata": {},
   "source": [
    "# Check Point\n",
    "This is your first checkpoint. If you ever decide to come back to this notebook or have to restart the notebook, you can start from here. The preprocessed data has been saved to disk."
   ]
  },
  {
   "cell_type": "code",
   "execution_count": 37,
   "metadata": {
    "collapsed": true
   },
   "outputs": [],
   "source": [
    "\"\"\"\n",
    "DON'T MODIFY ANYTHING IN THIS CELL\n",
    "\"\"\"\n",
    "import helper\n",
    "import problem_unittests as tests\n",
    "\n",
    "int_text, vocab_to_int, int_to_vocab, token_dict = helper.load_preprocess()\n"
   ]
  },
  {
   "cell_type": "markdown",
   "metadata": {},
   "source": [
    "## Build the Neural Network\n",
    "In this section, you'll build the components necessary to build an RNN by implementing the RNN Module and forward and backpropagation functions.\n",
    "\n",
    "### Check Access to GPU"
   ]
  },
  {
   "cell_type": "code",
   "execution_count": 38,
   "metadata": {
    "collapsed": true
   },
   "outputs": [],
   "source": [
    "\"\"\"\n",
    "DON'T MODIFY ANYTHING IN THIS CELL\n",
    "\"\"\"\n",
    "import torch\n",
    "\n",
    "# Check for a GPU\n",
    "train_on_gpu = torch.cuda.is_available()\n",
    "if not train_on_gpu:\n",
    "    print('No GPU found. Please use a GPU to train your neural network.')"
   ]
  },
  {
   "cell_type": "markdown",
   "metadata": {},
   "source": [
    "## Input\n",
    "Let's start with the preprocessed input data. We'll use [TensorDataset](http://pytorch.org/docs/master/data.html#torch.utils.data.TensorDataset) to provide a known format to our dataset; in combination with [DataLoader](http://pytorch.org/docs/master/data.html#torch.utils.data.DataLoader), it will handle batching, shuffling, and other dataset iteration functions.\n",
    "\n",
    "You can create data with TensorDataset by passing in feature and target tensors. Then create a DataLoader as usual.\n",
    "```\n",
    "data = TensorDataset(feature_tensors, target_tensors)\n",
    "data_loader = torch.utils.data.DataLoader(data, \n",
    "                                          batch_size=batch_size)\n",
    "```\n",
    "\n",
    "### Batching\n",
    "Implement the `batch_data` function to batch `words` data into chunks of size `batch_size` using the `TensorDataset` and `DataLoader` classes.\n",
    "\n",
    ">You can batch words using the DataLoader, but it will be up to you to create `feature_tensors` and `target_tensors` of the correct size and content for a given `sequence_length`.\n",
    "\n",
    "For example, say we have these as input:\n",
    "```\n",
    "words = [1, 2, 3, 4, 5, 6, 7]\n",
    "sequence_length = 4\n",
    "```\n",
    "\n",
    "Your first `feature_tensor` should contain the values:\n",
    "```\n",
    "[1, 2, 3, 4]\n",
    "```\n",
    "And the corresponding `target_tensor` should just be the next \"word\"/tokenized word value:\n",
    "```\n",
    "5\n",
    "```\n",
    "This should continue with the second `feature_tensor`, `target_tensor` being:\n",
    "```\n",
    "[2, 3, 4, 5]  # features\n",
    "6             # target\n",
    "```"
   ]
  },
  {
   "cell_type": "code",
   "execution_count": 39,
   "metadata": {
    "collapsed": true
   },
   "outputs": [],
   "source": [
    "from torch.utils.data import TensorDataset, DataLoader\n",
    "\n",
    "\n",
    "def batch_data(words, sequence_length, batch_size):\n",
    "    \"\"\"\n",
    "    Batch the neural network data using DataLoader\n",
    "    :param words: The word ids of the TV scripts\n",
    "    :param sequence_length: The sequence length of each batch\n",
    "    :param batch_size: The size of each batch; the number of sequences in a batch\n",
    "    :return: DataLoader with batched data\n",
    "    \"\"\"\n",
    "    # TODO: Implement function\n",
    "    batch_size_total = batch_size * sequence_length\n",
    "    num_batches = len(words) // batch_size_total\n",
    "    words = words[:num_batches * batch_size_total]\n",
    "    \n",
    "    train_x = np.array([words[i:i+sequence_length] for i in range(0, len(words), sequence_length)])\n",
    "    train_y = np.array([words[sequence_length+i] if i+sequence_length < len(words) else words[0] for i in range(0, len(words), sequence_length) ]) \n",
    "\n",
    "    ## print out the shapes of your resultant feature data\n",
    "\n",
    "    train_data = TensorDataset(torch.from_numpy(train_x), torch.from_numpy(train_y))\n",
    "    train_loader = DataLoader(train_data, batch_size=batch_size , shuffle=True)\n",
    "    \n",
    "    # return a dataloader\n",
    "    return train_loader\n",
    "\n",
    "# there is no test for this function, but you are encouraged to create\n",
    "# print statements and tests of your own\n",
    "\n",
    "train_loader = batch_data(int_text, sequence_length=5, batch_size=100)"
   ]
  },
  {
   "cell_type": "markdown",
   "metadata": {},
   "source": [
    "### Test your dataloader \n",
    "\n",
    "You'll have to modify this code to test a batching function, but it should look fairly similar.\n",
    "\n",
    "Below, we're generating some test text data and defining a dataloader using the function you defined, above. Then, we are getting some sample batch of inputs `sample_x` and targets `sample_y` from our dataloader.\n",
    "\n",
    "Your code should return something like the following (likely in a different order, if you shuffled your data):\n",
    "\n",
    "```\n",
    "torch.Size([10, 5])\n",
    "tensor([[ 28,  29,  30,  31,  32],\n",
    "        [ 21,  22,  23,  24,  25],\n",
    "        [ 17,  18,  19,  20,  21],\n",
    "        [ 34,  35,  36,  37,  38],\n",
    "        [ 11,  12,  13,  14,  15],\n",
    "        [ 23,  24,  25,  26,  27],\n",
    "        [  6,   7,   8,   9,  10],\n",
    "        [ 38,  39,  40,  41,  42],\n",
    "        [ 25,  26,  27,  28,  29],\n",
    "        [  7,   8,   9,  10,  11]])\n",
    "\n",
    "torch.Size([10])\n",
    "tensor([ 33,  26,  22,  39,  16,  28,  11,  43,  30,  12])\n",
    "```\n",
    "\n",
    "### Sizes\n",
    "Your sample_x should be of size `(batch_size, sequence_length)` or (10, 5) in this case and sample_y should just have one dimension: batch_size (10). \n",
    "\n",
    "### Values\n",
    "\n",
    "You should also notice that the targets, sample_y, are the *next* value in the ordered test_text data. So, for an input sequence `[ 28,  29,  30,  31,  32]` that ends with the value `32`, the corresponding output should be `33`."
   ]
  },
  {
   "cell_type": "code",
   "execution_count": 40,
   "metadata": {
    "collapsed": true
   },
   "outputs": [
    {
     "name": "stdout",
     "output_type": "stream",
     "text": [
      "torch.Size([10, 5])\n",
      "tensor([[35, 36, 37, 38, 39],\n",
      "        [45, 46, 47, 48, 49],\n",
      "        [30, 31, 32, 33, 34],\n",
      "        [15, 16, 17, 18, 19],\n",
      "        [10, 11, 12, 13, 14],\n",
      "        [25, 26, 27, 28, 29],\n",
      "        [40, 41, 42, 43, 44],\n",
      "        [20, 21, 22, 23, 24],\n",
      "        [ 0,  1,  2,  3,  4],\n",
      "        [ 5,  6,  7,  8,  9]])\n",
      "\n",
      "torch.Size([10])\n",
      "tensor([40,  0, 35, 20, 15, 30, 45, 25,  5, 10])\n"
     ]
    }
   ],
   "source": [
    "# test dataloader\n",
    "\n",
    "test_text = range(50)\n",
    "t_loader = batch_data(test_text, sequence_length=5, batch_size=10)\n",
    "\n",
    "data_iter = iter(t_loader)\n",
    "sample_x, sample_y = data_iter.next()\n",
    "\n",
    "print(sample_x.shape)\n",
    "print(sample_x)\n",
    "print()\n",
    "print(sample_y.shape)\n",
    "print(sample_y)"
   ]
  },
  {
   "cell_type": "markdown",
   "metadata": {},
   "source": [
    "---\n",
    "## Build the Neural Network\n",
    "Implement an RNN using PyTorch's [Module class](http://pytorch.org/docs/master/nn.html#torch.nn.Module). You may choose to use a GRU or an LSTM. To complete the RNN, you'll have to implement the following functions for the class:\n",
    " - `__init__` - The initialize function. \n",
    " - `init_hidden` - The initialization function for an LSTM/GRU hidden state\n",
    " - `forward` - Forward propagation function.\n",
    " \n",
    "The initialize function should create the layers of the neural network and save them to the class. The forward propagation function will use these layers to run forward propagation and generate an output and a hidden state.\n",
    "\n",
    "**The output of this model should be the *last* batch of word scores** after a complete sequence has been processed. That is, for each input sequence of words, we only want to output the word scores for a single, most likely, next word.\n",
    "\n",
    "### Hints\n",
    "\n",
    "1. Make sure to stack the outputs of the lstm to pass to your fully-connected layer, you can do this with `lstm_output = lstm_output.contiguous().view(-1, self.hidden_dim)`\n",
    "2. You can get the last batch of word scores by shaping the output of the final, fully-connected layer like so:\n",
    "\n",
    "```\n",
    "# reshape into (batch_size, seq_length, output_size)\n",
    "output = output.view(batch_size, -1, self.output_size)\n",
    "# get last batch\n",
    "out = output[:, -1]\n",
    "```"
   ]
  },
  {
   "cell_type": "code",
   "execution_count": 41,
   "metadata": {
    "collapsed": true
   },
   "outputs": [
    {
     "name": "stdout",
     "output_type": "stream",
     "text": [
      "Tests Passed\n"
     ]
    }
   ],
   "source": [
    "import torch.nn as nn\n",
    "\n",
    "class RNN(nn.Module):\n",
    "    \n",
    "    def __init__(self, vocab_size, output_size, embedding_dim, hidden_dim, n_layers, dropout=0.5):\n",
    "        \"\"\"\n",
    "        Initialize the PyTorch RNN Module\n",
    "        :param vocab_size: The number of input dimensions of the neural network (the size of the vocabulary)\n",
    "        :param output_size: The number of output dimensions of the neural network\n",
    "        :param embedding_dim: The size of embeddings, should you choose to use them        \n",
    "        :param hidden_dim: The size of the hidden layer outputs\n",
    "        :param dropout: dropout to add in between LSTM/GRU layers\n",
    "        \"\"\"\n",
    "        super(RNN, self).__init__()\n",
    "        # TODO: Implement function\n",
    "        self.output_size = output_size\n",
    "        self.n_layers = n_layers\n",
    "        self.hidden_dim = hidden_dim\n",
    "\n",
    "        # define an embedding layer, input size is vocab size, output size is embedding_dim\n",
    "        self.embedding = nn.Embedding(vocab_size, embedding_dim)\n",
    "        self.lstm = nn.LSTM(embedding_dim, hidden_dim, n_layers, dropout=dropout, batch_first=True)\n",
    "\n",
    "        # define a dropout layer\n",
    "        self.dropout = nn.Dropout(dropout)\n",
    "\n",
    "        # define final, fully-connected output layer\n",
    "        self.fc = nn.Linear(hidden_dim, output_size)\n",
    "        \n",
    "        # set class variables\n",
    "        \n",
    "        # define model layers\n",
    "    \n",
    "    \n",
    "    def forward(self, nn_input, hidden):\n",
    "        \"\"\"\n",
    "        Forward propagation of the neural network\n",
    "        :param nn_input: The input to the neural network\n",
    "        :param hidden: The hidden state        \n",
    "        :return: Two Tensors, the output of the neural network and the latest hidden state\n",
    "        \"\"\"\n",
    "        # TODO: Implement function   \n",
    "        batch_size = nn_input.size(0)\n",
    "        embeds = self.embedding(nn_input)\n",
    "        lstm_out, hidden = self.lstm(embeds, hidden)\n",
    "        lstm_out = lstm_out.contiguous().view(-1, self.hidden_dim)\n",
    "        out = self.dropout(lstm_out)\n",
    "        out = self.fc(out)\n",
    "        out = out.view(batch_size, -1, self.output_size)\n",
    "        out = out[:, -1]\n",
    "\n",
    "        # return one batch of output word scores and the hidden state\n",
    "        return out, hidden\n",
    "    \n",
    "    \n",
    "    def init_hidden(self, batch_size):\n",
    "        '''\n",
    "        Initialize the hidden state of an LSTM/GRU\n",
    "        :param batch_size: The batch_size of the hidden state\n",
    "        :return: hidden state of dims (n_layers, batch_size, hidden_dim)\n",
    "        '''\n",
    "        # Implement function\n",
    "        \n",
    "        # initialize hidden state with zero weights, and move to GPU if available\n",
    "        weight = next(self.parameters()).data\n",
    "\n",
    "        if (train_on_gpu):\n",
    "            hidden = (weight.new(self.n_layers, batch_size, self.hidden_dim).zero_().cuda(),\n",
    "                      weight.new(self.n_layers, batch_size, self.hidden_dim).zero_().cuda())\n",
    "        else:\n",
    "            hidden = (weight.new(self.n_layers, batch_size, self.hidden_dim).zero_(),\n",
    "                      weight.new(self.n_layers, batch_size, self.hidden_dim).zero_())\n",
    "        \n",
    "        return hidden\n",
    "\n",
    "\"\"\"\n",
    "DON'T MODIFY ANYTHING IN THIS CELL THAT IS BELOW THIS LINE\n",
    "\"\"\"\n",
    "tests.test_rnn(RNN, train_on_gpu)"
   ]
  },
  {
   "cell_type": "markdown",
   "metadata": {},
   "source": [
    "### Define forward and backpropagation\n",
    "\n",
    "Use the RNN class you implemented to apply forward and back propagation. This function will be called, iteratively, in the training loop as follows:\n",
    "```\n",
    "loss = forward_back_prop(decoder, decoder_optimizer, criterion, inp, target)\n",
    "```\n",
    "\n",
    "And it should return the average loss over a batch and the hidden state returned by a call to `RNN(inp, hidden)`. Recall that you can get this loss by computing it, as usual, and calling `loss.item()`.\n",
    "\n",
    "**If a GPU is available, you should move your data to that GPU device, here.**"
   ]
  },
  {
   "cell_type": "code",
   "execution_count": 42,
   "metadata": {
    "collapsed": true
   },
   "outputs": [
    {
     "name": "stdout",
     "output_type": "stream",
     "text": [
      "Tests Passed\n"
     ]
    }
   ],
   "source": [
    "def forward_back_prop(rnn, optimizer, criterion, inp, target, hidden):\n",
    "    \"\"\"\n",
    "    Forward and backward propagation on the neural network\n",
    "    :param rnn: The PyTorch Module that holds the neural network\n",
    "    :param optimizer: The PyTorch optimizer for the neural network\n",
    "    :param criterion: The PyTorch loss function\n",
    "    :param inp: A batch of input to the neural network\n",
    "    :param target: The target output for the batch of input\n",
    "    :return: The loss and the latest hidden state Tensor\n",
    "    \"\"\"\n",
    "    \n",
    "    # TODO: Implement Function\n",
    "    clip = 5 # gradient clipping\n",
    "    \n",
    "    \n",
    "    # move data to GPU, if available\n",
    "    if (train_on_gpu):\n",
    "        inputs, labels = inp.to('cuda'), target.to('cuda')\n",
    "    \n",
    "    \n",
    "    # perform backprop and optimization only if in training phase\n",
    "    # creating new variables for the hidden state, otherwise\n",
    "    # we'd backprop through the entire training history\n",
    "\n",
    "    hidden = tuple([each.data for each in hidden])\n",
    "    \n",
    "    # zero accumulated gradients\n",
    "    rnn.zero_grad()\n",
    "\n",
    "    # forward pass, then backward pass, then optimization with gradient clipping\n",
    "\n",
    "    # get the output from the RNN\n",
    "    outputs, hidden = rnn(inputs, hidden)\n",
    "\n",
    "    # perform backpropagation and optimization\n",
    "    loss = criterion(outputs, labels)\n",
    "    loss.backward()\n",
    "\n",
    "    # clip gradients before returning them to avoid exploding gradients during backprop \n",
    "    nn.utils.clip_grad_norm_(rnn.parameters(), clip)\n",
    "    optimizer.step()\n",
    "\n",
    "    # return the loss over a batch and the hidden state produced by our model\n",
    "    return loss.item(), hidden\n",
    "\n",
    "# Note that these tests aren't completely extensive.\n",
    "# they are here to act as general checks on the expected outputs of your functions\n",
    "\"\"\"\n",
    "DON'T MODIFY ANYTHING IN THIS CELL THAT IS BELOW THIS LINE\n",
    "\"\"\"\n",
    "tests.test_forward_back_prop(RNN, forward_back_prop, train_on_gpu)"
   ]
  },
  {
   "cell_type": "markdown",
   "metadata": {},
   "source": [
    "## Neural Network Training\n",
    "\n",
    "With the structure of the network complete and data ready to be fed in the neural network, it's time to train it.\n",
    "\n",
    "### Train Loop\n",
    "\n",
    "The training loop is implemented for you in the `train_decoder` function. This function will train the network over all the batches for the number of epochs given. The model progress will be shown every number of batches. This number is set with the `show_every_n_batches` parameter. You'll set this parameter along with other parameters in the next section."
   ]
  },
  {
   "cell_type": "code",
   "execution_count": 43,
   "metadata": {
    "collapsed": true
   },
   "outputs": [],
   "source": [
    "\"\"\"\n",
    "DON'T MODIFY ANYTHING IN THIS CELL\n",
    "\"\"\"\n",
    "\n",
    "def train_rnn(rnn, batch_size, optimizer, criterion, n_epochs, show_every_n_batches=100):\n",
    "    batch_losses = []\n",
    "    \n",
    "    rnn.train()\n",
    "\n",
    "    print(\"Training for %d epoch(s)...\" % n_epochs)\n",
    "    for epoch_i in range(1, n_epochs + 1):\n",
    "        \n",
    "        # initialize hidden state\n",
    "        hidden = rnn.init_hidden(batch_size)\n",
    "        \n",
    "        for batch_i, (inputs, labels) in enumerate(train_loader, 1):\n",
    "            \n",
    "            # make sure you iterate over completely full batches, only\n",
    "            n_batches = len(train_loader.dataset)//batch_size\n",
    "            if(batch_i > n_batches):\n",
    "                break\n",
    "            \n",
    "            # forward, back prop\n",
    "            loss, hidden = forward_back_prop(rnn, optimizer, criterion, inputs, labels, hidden)          \n",
    "            \n",
    "            # record loss\n",
    "            batch_losses.append(loss)\n",
    "\n",
    "            # printing loss stats\n",
    "            if batch_i % show_every_n_batches == 0:\n",
    "                print('Epoch: {:>4}/{:<4}  Loss: {}\\n'.format(\n",
    "                    epoch_i, n_epochs, np.average(batch_losses)))\n",
    "                batch_losses = []\n",
    "\n",
    "    # returns a trained rnn\n",
    "    return rnn"
   ]
  },
  {
   "cell_type": "markdown",
   "metadata": {},
   "source": [
    "### Hyperparameters\n",
    "\n",
    "Set and train the neural network with the following parameters:\n",
    "- Set `sequence_length` to the length of a sequence.\n",
    "- Set `batch_size` to the batch size.\n",
    "- Set `num_epochs` to the number of epochs to train for.\n",
    "- Set `learning_rate` to the learning rate for an Adam optimizer.\n",
    "- Set `vocab_size` to the number of unique tokens in our vocabulary.\n",
    "- Set `output_size` to the desired size of the output.\n",
    "- Set `embedding_dim` to the embedding dimension; smaller than the vocab_size.\n",
    "- Set `hidden_dim` to the hidden dimension of your RNN.\n",
    "- Set `n_layers` to the number of layers/cells in your RNN.\n",
    "- Set `show_every_n_batches` to the number of batches at which the neural network should print progress.\n",
    "\n",
    "If the network isn't getting the desired results, tweak these parameters and/or the layers in the `RNN` class."
   ]
  },
  {
   "cell_type": "code",
   "execution_count": 50,
   "metadata": {
    "collapsed": true
   },
   "outputs": [
    {
     "name": "stdout",
     "output_type": "stream",
     "text": [
      "tensor([[   12,     0,     0,     7,     5,    41,    44,    21,     6,   355],\n",
      "        [    1,    31,   164,     1,     0,     0,    14, 19997,    10,     0],\n",
      "        [    5,    94,   202,     5,    61,     6,  1281,   840,    10,     0],\n",
      "        [   22,    33,  1740,  2274,     3,     0,     0,    14,    18,     3],\n",
      "        [ 1895,     4,     1,     0,     0,    14,    29,    10,   229,     4],\n",
      "        [    0,     0,    16,    32,     2,     5,    42,    27,     1,    74],\n",
      "        [   82,   108,   279,     6,   190,   370,     1,     0,     0,    16],\n",
      "        [ 1188,   655,   233,     8,  3542,  2883,     3,     4,  4410,    60],\n",
      "        [   96,    51,    15,     1,     1,     1,     0,     0,    14,    29],\n",
      "        [   43,     1,   124,    20,    24,     1,    11,  1156,    71,  2135],\n",
      "        [ 1699,    10,  1699,    10,     0,     0,  1510,    11,   453,   339],\n",
      "        [  868,    10,  1174,    49,    10,  1174, 17534,    10,     0,     0],\n",
      "        [    2,    17,     2,    72,     2,    55,    61,    24,  3455,   259],\n",
      "        [  112,    28,    33,   252,     2,     5,   898,    18,     8,    34],\n",
      "        [   40,    82,     1,     0,     0,     7,    29,     2,    37,   144],\n",
      "        [    6,  1377,     2,     6,  1486,     1,     1,     1,     4,  2052],\n",
      "        [ 2889,  6038,     3,     0,     0,    14,   311,    35,     3,     0],\n",
      "        [  313, 12169,   214,     1,    55,    84,   302,   413,     1,    17],\n",
      "        [    0,     0,   122,     1,   581,    11, 14072,    12,     9,  5165],\n",
      "        [ 4155,     2,    17,    35,    61,  8267,     1,     1,     1,    19],\n",
      "        [   12,    26,    82,    79,    97,    18,     9, 17381,    88,    34],\n",
      "        [ 5019,     3,    21,     6,  1467,    10,     0,     0,     7,    32],\n",
      "        [  707,    21,   284,    46,    24,     1,    65,    42,    87,     8],\n",
      "        [    7,    56,     6,   194,    61,     4,     9,   317,     1,     6],\n",
      "        [    0,     0,    16,     1,     1,     6,  5585,   283,    10,     6],\n",
      "        [    8,    97,  2462,    19,     5,   285,     9,   851,   468,    20],\n",
      "        [    5,   105,     8,   157,   151,  1309,    17,    55,   121,   520],\n",
      "        [    0,     7,   152,  1698,     1,     0,     0,    14,    29,     1],\n",
      "        [  106,  3361,   592,     0,     0,  1396,    24,    22,    98,   353],\n",
      "        [    1,     1,     1,     1,     1,  4185,  1723,    10,    10,     1],\n",
      "        [    2,    72,     2,    26,    82,     2,    26,    82,     1,    11],\n",
      "        [  977,     2,    66,   977,     1,     1,     1,    11,     8,    78],\n",
      "        [  146,    62,     1,   146,  1941,   284,    47,     1,     0,     0],\n",
      "        [    1,     0,     0,    14,    37,    24,    22,   123,    88,   235],\n",
      "        [   48, 17820,     1,     0,     0,     7,     9,   409,    23,  2052],\n",
      "        [   42,    27,  1736,    15,    22,     3,     0,     0,     7,    26],\n",
      "        [    4,    27,    73, 17116,    48,     1,   159, 10675,     8,   445],\n",
      "        [ 7951,  1070,     2,     5,   602,  6675,   277,    15,     1,     1],\n",
      "        [   82,    20,   191,    22,    88,   750,     3,     0,     0,    16],\n",
      "        [10872,     1,     0,     0,   487,   957,    45,   464,     1,    51],\n",
      "        [  520,    91,    59,   507,   189,     2,  5046,    21,   296,  1489],\n",
      "        [   22,   922,   935,     1,     1,     1,    30,     2,    30,     1],\n",
      "        [    9,  3805, 10352,     3,     0,     0,    14,   100,     2,    71],\n",
      "        [    1,    79,    55,    64,     8,     9,   329,   211,     2,    37],\n",
      "        [   34,     3,     0,     0,  1139,    42,    51, 20164,  1294,     2],\n",
      "        [    0,     0,     7,   286,    21,     6,   798,     3,     0,     0],\n",
      "        [   53,  1741,    10,    53,     2,    53, 20936,    23, 20937,    10],\n",
      "        [    8,    39,     6,  3306,    17,  1982,     4,  2242,     1,    67],\n",
      "        [ 3740,  1018,  3216,     1,    36,     9,  4402,  2728,     1,     0],\n",
      "        [   66,  2922,  2134,     3,     0,     0,   185,    31,  1712,    15],\n",
      "        [   12,    31,   253,     1,     0,     0,  2482,    32,     2,     5],\n",
      "        [   13,    36,     9,  2967, 10477,     1,   394,     5,     2,    72],\n",
      "        [   16,    56,     4,    27,     2,    33,   613,    85,  2947,     1],\n",
      "        [  137,    15,     1,     0,     0,    13,    11,   887,   115,    35],\n",
      "        [    2,  3886,     6,   417,    12,  4185,  3844,    10,    11, 15132],\n",
      "        [   12,    37,     2,    73,   702,    46,    24,     3,     0,     0],\n",
      "        [    1,     0,     0,    14,   832,   170,   183,     1,     0,     0],\n",
      "        [    1,     0,     0,    14,    11,  1370,   267,   794,    12,    29],\n",
      "        [ 3221,     1,    92,    28,     6, 10114,     0,     0,     7,  7032],\n",
      "        [  513,     2,     4,    61,   191,   520,    37,  2782,     2,    68],\n",
      "        [   34,     3,    79,     5,    51,     4,   110,     3,     0,     0],\n",
      "        [   61,   296,   423,   685,    59,     6,   476,    20,     6,  4284],\n",
      "        [    4,     1,     0,     0,    16,    30,     2,    74,   148,    35],\n",
      "        [    4,    27,    10,    46,     9,  1688,   417,     1,    53,     0],\n",
      "        [   74,    15,    41,     8,  1127,     9,  1858,   241,     1,     9],\n",
      "        [  111,     4,    97,    63,     6,  1334,     3,     0,     0,    13],\n",
      "        [   40,     6,   163,   821,  6934,  3114,    38,    19,   821,    17],\n",
      "        [   14,    30,     0,     0,   642,     1,  1396,    34,     4,   307],\n",
      "        [    1,     0,     0,     7,    29,     2,  3921,   210,    10,     1],\n",
      "        [    0,     7,    35,    41,    88,   752,     4,     3,     0,     0],\n",
      "        [  155,  3285,     6,  9467,     2, 19032,    62,    11,   899,   113],\n",
      "        [   10,     0,     0,    14,     5,     1,     1,     1,     5,    70],\n",
      "        [   11,  3193,  6742,    75,   824,  5228,    59,   476,    20,  1590],\n",
      "        [   30,     1,    26,     1,   207,     2,    60,     2,     5,   156],\n",
      "        [   34,     4,    70,    68,   217,    46,     3,     0,     0,    16],\n",
      "        [  106,  1621,     1,     4,   753,   106,  1621,     8,    25,     1],\n",
      "        [   84,     4,   157,    19,  2174,     6,   308,  6169,     3,     0],\n",
      "        [   31, 19854,     1,     0,     0,   132,  1272,    79,     5,    39],\n",
      "        [   31,  1059,     4,     9,   201,  1495,     1,     0,     0,   185],\n",
      "        [    7,    30,     2,    68,   105,    24,   174,   721,    17,   766],\n",
      "        [   53,     1,     1,     1,    40,     9,  5576,     2,   797,    49],\n",
      "        [    1,    53,     0,     0,    16,    53,   144,    26,  1014,   173],\n",
      "        [   81,     2,    31,   164,     1,     0,     0,    16,    18,    58],\n",
      "        [    1,   133,     2,    96,    97,     4,    18,    96,    34,     1],\n",
      "        [  559,     1,     0,     0,    13,    37,     2,    18,    84,    68],\n",
      "        [   72,     1,     1,     1,   216,   832,     3,     0,     0,     7],\n",
      "        [   20,    24,   298,     1,    55,    44,    99,   152,   354,  1533],\n",
      "        [    2,   151,  5475,    20,   149,     1,     0,     0,    13,  7753],\n",
      "        [    0,     0,    13,   412,     1,    11,    35,   808,    71,   873],\n",
      "        [   97,     4,     2,    74,    52,  4524,   936,     9,   227,    20],\n",
      "        [  505,     9,  1104,     1,     0,     0,     7,   525,     2,   211],\n",
      "        [ 5536,     2,  2399,    88,    27,     3,    18,  4511,   290,    99],\n",
      "        [   20,  6818,     1,     0,     0,    13,    32,    18,    58,    50],\n",
      "        [    6,  7484,  9152,    17,  1917,  1605,  8182,     4,    17,     5],\n",
      "        [  478,   173,   731,    15,   142,  1640,     1,     1,     0,     0],\n",
      "        [  788,    71,  1503,     1,     0,     0,    14,     4,   123,    51],\n",
      "        [    0,     0,    13,    56,     2,    91,     2,    81,     2,     0],\n",
      "        [  130,  1141,     1,    26,     2,   207,     2,     5,    41,  2311],\n",
      "        [  207,     2,  1021,     1,   118,    55,   225,   602,    24,   378],\n",
      "        [    0,     0,    14,   690,    10,     0,     0,    13,     6,  1822]])\n",
      "tensor([    1,     0,     0,     0,     1,   110,    83,    40,    33,    12,\n",
      "         1345,    55,     1,     1,   184,    15,     0,     5,  4690,   430,\n",
      "            1,     2,   238,   643,  5585,   509,  1097,     0,     1,     1,\n",
      "          551,    12,  1180,     3,    79,     2,   192,     0,    32,    52,\n",
      "           12,     1,   233,    92,    17,    13,    53,    83,     0,    38,\n",
      "          140,     2,     5,   631,    46,   517,     7,     2,     2,   515,\n",
      "         1510,     1,    41,     0,   540,    26,  2148,    52,    75,    14,\n",
      "         2057,    31,  3193,   534,  5738,    66,     0,    71,    29,  1169,\n",
      "            1,    62,    53,     4,   119,    18,     1,     3,   277,   210,\n",
      "        10799,  9063,     6,   103,     7,    89,     0,   422,     2,     2])\n"
     ]
    }
   ],
   "source": [
    "# Data params\n",
    "# Sequence Length\n",
    "sequence_length = 10  # of words in a sequence\n",
    "# Batch Size\n",
    "batch_size = 100\n",
    "\n",
    "# data loader - do not change\n",
    "train_loader = batch_data(int_text, sequence_length, batch_size)\n",
    "\n",
    "for batch_i, (inputs, labels) in enumerate(train_loader):\n",
    "    print(inputs)\n",
    "    print(labels)\n",
    "    break"
   ]
  },
  {
   "cell_type": "code",
   "execution_count": 51,
   "metadata": {
    "collapsed": true
   },
   "outputs": [],
   "source": [
    "# Training parameters\n",
    "# Number of Epochs\n",
    "num_epochs = 25\n",
    "# Learning Rate\n",
    "learning_rate = 0.001 \n",
    "\n",
    "# Model parameters\n",
    "# Vocab size\n",
    "vocab_size = len(vocab_to_int)\n",
    "# Output size\n",
    "output_size = vocab_size\n",
    "# Embedding Dimension\n",
    "embedding_dim = 200 \n",
    "# Hidden Dimension\n",
    "hidden_dim =  250\n",
    "# Number of RNN Layers\n",
    "n_layers = 2\n",
    "\n",
    "# Show stats for every n number of batches\n",
    "show_every_n_batches = 500"
   ]
  },
  {
   "cell_type": "markdown",
   "metadata": {},
   "source": [
    "### Train\n",
    "In the next cell, you'll train the neural network on the pre-processed data.  If you have a hard time getting a good loss, you may consider changing your hyperparameters. In general, you may get better results with larger hidden and n_layer dimensions, but larger models take a longer time to train. \n",
    "> **You should aim for a loss less than 3.5.** \n",
    "\n",
    "You should also experiment with different sequence lengths, which determine the size of the long range dependencies that a model can learn."
   ]
  },
  {
   "cell_type": "code",
   "execution_count": 52,
   "metadata": {
    "collapsed": true
   },
   "outputs": [
    {
     "name": "stdout",
     "output_type": "stream",
     "text": [
      "Training for 25 epoch(s)...\n",
      "Epoch:    1/25    Loss: 5.651975854873657\n",
      "\n",
      "Epoch:    2/25    Loss: 4.945406867249664\n",
      "\n",
      "Epoch:    3/25    Loss: 4.658272434243172\n",
      "\n",
      "Epoch:    4/25    Loss: 4.448756423499018\n",
      "\n",
      "Epoch:    5/25    Loss: 4.305036325358489\n",
      "\n",
      "Epoch:    6/25    Loss: 4.163542129533708\n",
      "\n",
      "Epoch:    7/25    Loss: 4.042789411384429\n",
      "\n",
      "Epoch:    8/25    Loss: 3.932844569062973\n",
      "\n",
      "Epoch:    9/25    Loss: 3.840575894165467\n",
      "\n",
      "Epoch:   10/25    Loss: 3.754640065501089\n",
      "\n",
      "Epoch:   11/25    Loss: 3.6689657256207657\n",
      "\n",
      "Epoch:   12/25    Loss: 3.5894722072532894\n",
      "\n",
      "Epoch:   13/25    Loss: 3.506121156194285\n",
      "\n",
      "Epoch:   14/25    Loss: 3.4347362205586625\n",
      "\n",
      "Epoch:   15/25    Loss: 3.3715770188468452\n",
      "\n",
      "Epoch:   16/25    Loss: 3.2968942710102405\n",
      "\n",
      "Epoch:   17/25    Loss: 3.244252073925172\n",
      "\n",
      "Epoch:   18/25    Loss: 3.1863002461702834\n",
      "\n",
      "Epoch:   19/25    Loss: 3.1355871216064077\n",
      "\n",
      "Epoch:   20/25    Loss: 3.0886286376837657\n",
      "\n",
      "Epoch:   21/25    Loss: 3.029819449501722\n",
      "\n",
      "Epoch:   22/25    Loss: 2.9874543077208\n",
      "\n",
      "Epoch:   23/25    Loss: 2.9400454198298434\n",
      "\n",
      "Epoch:   24/25    Loss: 2.909978882346987\n",
      "\n",
      "Epoch:   25/25    Loss: 2.8622534948614144\n",
      "\n",
      "Model Trained and Saved\n"
     ]
    }
   ],
   "source": [
    "\"\"\"\n",
    "DON'T MODIFY ANYTHING IN THIS CELL\n",
    "\"\"\"\n",
    "\n",
    "# create model and move to gpu if available\n",
    "rnn = RNN(vocab_size, output_size, embedding_dim, hidden_dim, n_layers, dropout=0.5)\n",
    "if train_on_gpu:\n",
    "    rnn.cuda()\n",
    "\n",
    "# defining loss and optimization functions for training\n",
    "optimizer = torch.optim.Adam(rnn.parameters(), lr=learning_rate)\n",
    "criterion = nn.CrossEntropyLoss()\n",
    "\n",
    "# training the model\n",
    "trained_rnn = train_rnn(rnn, batch_size, optimizer, criterion, num_epochs, show_every_n_batches)\n",
    "\n",
    "# saving the trained model\n",
    "helper.save_model('./save/trained_rnn', trained_rnn)\n",
    "print('Model Trained and Saved')"
   ]
  },
  {
   "cell_type": "markdown",
   "metadata": {},
   "source": [
    "### Question: How did you decide on your model hyperparameters? \n",
    "For example, did you try different sequence_lengths and find that one size made the model converge faster? What about your hidden_dim and n_layers; how did you decide on those?"
   ]
  },
  {
   "cell_type": "markdown",
   "metadata": {},
   "source": [
    "**Answer:** (Write answer, here)\n",
    "\n",
    "i tried sequence length 5 and 10 . in case of 10 model converge faster . use batch size 50 and 100 . 100 is better than 50 . 100 batch size works faster . \n",
    "\n",
    "use 100 epoch first time . it was taking very long time . so i reduced it to 25 epoch.\n",
    "\n",
    "tried hidden_dim 150 and 250 . 250 work better . "
   ]
  },
  {
   "cell_type": "markdown",
   "metadata": {},
   "source": [
    "---\n",
    "# Checkpoint\n",
    "\n",
    "After running the above training cell, your model will be saved by name, `trained_rnn`, and if you save your notebook progress, **you can pause here and come back to this code at another time**. You can resume your progress by running the next cell, which will load in our word:id dictionaries _and_ load in your saved model by name!"
   ]
  },
  {
   "cell_type": "code",
   "execution_count": 53,
   "metadata": {
    "collapsed": true
   },
   "outputs": [],
   "source": [
    "\"\"\"\n",
    "DON'T MODIFY ANYTHING IN THIS CELL\n",
    "\"\"\"\n",
    "import torch\n",
    "import helper\n",
    "import problem_unittests as tests\n",
    "\n",
    "_, vocab_to_int, int_to_vocab, token_dict = helper.load_preprocess()\n",
    "trained_rnn = helper.load_model('./save/trained_rnn')"
   ]
  },
  {
   "cell_type": "markdown",
   "metadata": {},
   "source": [
    "## Generate TV Script\n",
    "With the network trained and saved, you'll use it to generate a new, \"fake\" Seinfeld TV script in this section.\n",
    "\n",
    "### Generate Text\n",
    "To generate the text, the network needs to start with a single word and repeat its predictions until it reaches a set length. You'll be using the `generate` function to do this. It takes a word id to start with, `prime_id`, and generates a set length of text, `predict_len`. Also note that it uses topk sampling to introduce some randomness in choosing the most likely next word, given an output set of word scores!"
   ]
  },
  {
   "cell_type": "code",
   "execution_count": 54,
   "metadata": {
    "collapsed": true
   },
   "outputs": [],
   "source": [
    "\"\"\"\n",
    "DON'T MODIFY ANYTHING IN THIS CELL THAT IS BELOW THIS LINE\n",
    "\"\"\"\n",
    "import torch.nn.functional as F\n",
    "\n",
    "def generate(rnn, prime_id, int_to_vocab, token_dict, pad_value, predict_len=100):\n",
    "    \"\"\"\n",
    "    Generate text using the neural network\n",
    "    :param decoder: The PyTorch Module that holds the trained neural network\n",
    "    :param prime_id: The word id to start the first prediction\n",
    "    :param int_to_vocab: Dict of word id keys to word values\n",
    "    :param token_dict: Dict of puncuation tokens keys to puncuation values\n",
    "    :param pad_value: The value used to pad a sequence\n",
    "    :param predict_len: The length of text to generate\n",
    "    :return: The generated text\n",
    "    \"\"\"\n",
    "    rnn.eval()\n",
    "    \n",
    "    # create a sequence (batch_size=1) with the prime_id\n",
    "    current_seq = np.full((1, sequence_length), pad_value)\n",
    "    current_seq[-1][-1] = prime_id\n",
    "    predicted = [int_to_vocab[prime_id]]\n",
    "    \n",
    "    for _ in range(predict_len):\n",
    "        if train_on_gpu:\n",
    "            current_seq = torch.LongTensor(current_seq).cuda()\n",
    "        else:\n",
    "            current_seq = torch.LongTensor(current_seq)\n",
    "        \n",
    "        # initialize the hidden state\n",
    "        hidden = rnn.init_hidden(current_seq.size(0))\n",
    "        \n",
    "        # get the output of the rnn\n",
    "        output, _ = rnn(current_seq, hidden)\n",
    "        \n",
    "        # get the next word probabilities\n",
    "        p = F.softmax(output, dim=1).data\n",
    "        if(train_on_gpu):\n",
    "            p = p.cpu() # move to cpu\n",
    "         \n",
    "        # use top_k sampling to get the index of the next word\n",
    "        top_k = 5\n",
    "        p, top_i = p.topk(top_k)\n",
    "        top_i = top_i.numpy().squeeze()\n",
    "        \n",
    "        # select the likely next word index with some element of randomness\n",
    "        p = p.numpy().squeeze()\n",
    "        word_i = np.random.choice(top_i, p=p/p.sum())\n",
    "        \n",
    "        # retrieve that word from the dictionary\n",
    "        word = int_to_vocab[word_i]\n",
    "        predicted.append(word)     \n",
    "        \n",
    "        if(train_on_gpu):\n",
    "            current_seq = current_seq.cpu() # move to cpu\n",
    "        # the generated word becomes the next \"current sequence\" and the cycle can continue\n",
    "        if train_on_gpu:\n",
    "            current_seq = current_seq.cpu()\n",
    "        current_seq = np.roll(current_seq, -1, 1)\n",
    "        current_seq[-1][-1] = word_i\n",
    "    \n",
    "    gen_sentences = ' '.join(predicted)\n",
    "    \n",
    "    # Replace punctuation tokens\n",
    "    for key, token in token_dict.items():\n",
    "        ending = ' ' if key in ['\\n', '(', '\"'] else ''\n",
    "        gen_sentences = gen_sentences.replace(' ' + token.lower(), key)\n",
    "    gen_sentences = gen_sentences.replace('\\n ', '\\n')\n",
    "    gen_sentences = gen_sentences.replace('( ', '(')\n",
    "    \n",
    "    # return all the sentences\n",
    "    return gen_sentences"
   ]
  },
  {
   "cell_type": "markdown",
   "metadata": {},
   "source": [
    "### Generate a New Script\n",
    "It's time to generate the text. Set `gen_length` to the length of TV script you want to generate and set `prime_word` to one of the following to start the prediction:\n",
    "- \"jerry\"\n",
    "- \"elaine\"\n",
    "- \"george\"\n",
    "- \"kramer\"\n",
    "\n",
    "You can set the prime word to _any word_ in our dictionary, but it's best to start with a name for generating a TV script. (You can also start with any other names you find in the original text file!)"
   ]
  },
  {
   "cell_type": "code",
   "execution_count": 55,
   "metadata": {
    "collapsed": true
   },
   "outputs": [
    {
     "name": "stdout",
     "output_type": "stream",
     "text": [
      "jerry:..(to kramer) i can't do this. i can't do that. i got a hot idea.\n",
      "\n",
      "george:(to george) : oh, no, no, i can't take the check. i can't believe you don't know, i was just going to do with this later.(george leaves)\n",
      "\n",
      "elaine: oh, no.\n",
      "\n",
      "elaine: oh, yeah.(george enters)... yeah!\n",
      "\n",
      "george: yeah, well, i was thinking, we can't get it!\n",
      "\n",
      "george: i can't believe you blew that. you know, what is it? i can't be able to say that, but i was not a piece of medicine, but it's been tired, *really* hours from us right?\n",
      "\n",
      "jerry: i can't believe you, i can't get it. i don't even want a little fight for my mind.\n",
      "\n",
      "jerry:(to kramer) oh, you know what you want to do?\n",
      "\n",
      "newman:(looking up to george) : well, what are you doing?\n",
      "\n",
      "george: yeah.\n",
      "\n",
      "jerry:(to kramer) well, you don't want to get married.\n",
      "\n",
      "jerry: no, i don't know.\n",
      "\n",
      "jerry: i don't know.\n",
      "\n",
      "george: oh, i can't do that. i mean, what do you think of a ride? you want to do me?\n",
      "\n",
      "elaine:(still holding a small) stella, buck. hayman is that?\n",
      "\n",
      "jerry: yeah.\n",
      "\n",
      "george: yeah, well i don't know.\n",
      "\n",
      "jerry: oh... yeah.\n",
      "\n",
      "george: i can't do it! i'm sorry, i got a problem in this office, you know, i can't believe you were going on the bathroom.\n",
      "\n",
      "george:(looking at his watch) what? i don't know how you should have to be a little fight, then shoves her daughter back to me, but i was going to be rained into the bathroom.\n",
      "\n",
      "george: what are i doing?\n",
      "\n",
      "kramer: oh, hey,\n"
     ]
    }
   ],
   "source": [
    "# run the cell multiple times to get different results!\n",
    "gen_length = 400 # modify the length to your preference\n",
    "prime_word = 'jerry' # name for starting the script\n",
    "\n",
    "\"\"\"\n",
    "DON'T MODIFY ANYTHING IN THIS CELL THAT IS BELOW THIS LINE\n",
    "\"\"\"\n",
    "pad_word = helper.SPECIAL_WORDS['PADDING']\n",
    "generated_script = generate(trained_rnn, vocab_to_int[prime_word + ':'], int_to_vocab, token_dict, vocab_to_int[pad_word], gen_length)\n",
    "print(generated_script)"
   ]
  },
  {
   "cell_type": "markdown",
   "metadata": {},
   "source": [
    "#### Save your favorite scripts\n",
    "\n",
    "Once you have a script that you like (or find interesting), save it to a text file!"
   ]
  },
  {
   "cell_type": "code",
   "execution_count": 56,
   "metadata": {
    "collapsed": true
   },
   "outputs": [],
   "source": [
    "# save script to a text file\n",
    "f =  open(\"generated_script_1.txt\",\"w\")\n",
    "f.write(generated_script)\n",
    "f.close()"
   ]
  },
  {
   "cell_type": "markdown",
   "metadata": {},
   "source": [
    "# The TV Script is Not Perfect\n",
    "It's ok if the TV script doesn't make perfect sense. It should look like alternating lines of dialogue, here is one such example of a few generated lines.\n",
    "\n",
    "### Example generated script\n",
    "\n",
    ">jerry: what about me?\n",
    ">\n",
    ">jerry: i don't have to wait.\n",
    ">\n",
    ">kramer:(to the sales table)\n",
    ">\n",
    ">elaine:(to jerry) hey, look at this, i'm a good doctor.\n",
    ">\n",
    ">newman:(to elaine) you think i have no idea of this...\n",
    ">\n",
    ">elaine: oh, you better take the phone, and he was a little nervous.\n",
    ">\n",
    ">kramer:(to the phone) hey, hey, jerry, i don't want to be a little bit.(to kramer and jerry) you can't.\n",
    ">\n",
    ">jerry: oh, yeah. i don't even know, i know.\n",
    ">\n",
    ">jerry:(to the phone) oh, i know.\n",
    ">\n",
    ">kramer:(laughing) you know...(to jerry) you don't know.\n",
    "\n",
    "You can see that there are multiple characters that say (somewhat) complete sentences, but it doesn't have to be perfect! It takes quite a while to get good results, and often, you'll have to use a smaller vocabulary (and discard uncommon words), or get more data.  The Seinfeld dataset is about 3.4 MB, which is big enough for our purposes; for script generation you'll want more than 1 MB of text, generally. \n",
    "\n",
    "# Submitting This Project\n",
    "When submitting this project, make sure to run all the cells before saving the notebook. Save the notebook file as \"dlnd_tv_script_generation.ipynb\" and save another copy as an HTML file by clicking \"File\" -> \"Download as..\"->\"html\". Include the \"helper.py\" and \"problem_unittests.py\" files in your submission. Once you download these files, compress them into one zip file for submission."
   ]
  },
  {
   "cell_type": "code",
   "execution_count": null,
   "metadata": {
    "collapsed": true
   },
   "outputs": [],
   "source": []
  }
 ],
 "metadata": {
  "kernelspec": {
   "display_name": "Python [default]",
   "language": "python",
   "name": "python3"
  },
  "language_info": {
   "codemirror_mode": {
    "name": "ipython",
    "version": 3
   },
   "file_extension": ".py",
   "mimetype": "text/x-python",
   "name": "python",
   "nbconvert_exporter": "python",
   "pygments_lexer": "ipython3",
   "version": "3.7.11"
  },
  "widgets": {
   "state": {},
   "version": "1.1.2"
  }
 },
 "nbformat": 4,
 "nbformat_minor": 1
}
